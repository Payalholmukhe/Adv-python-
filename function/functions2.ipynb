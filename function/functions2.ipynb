{
 "cells": [
  {
   "cell_type": "markdown",
   "id": "8e26354d",
   "metadata": {},
   "source": [
    "# unpacking of list"
   ]
  },
  {
   "cell_type": "code",
   "execution_count": 1,
   "id": "619ee27f",
   "metadata": {},
   "outputs": [
    {
     "data": {
      "text/plain": [
       "{12, 23, 45, 56}"
      ]
     },
     "execution_count": 1,
     "metadata": {},
     "output_type": "execute_result"
    }
   ],
   "source": [
    "l1 = {12,23,45,56}\n",
    "l1"
   ]
  },
  {
   "cell_type": "code",
   "execution_count": 2,
   "id": "57d9c0bd",
   "metadata": {},
   "outputs": [],
   "source": [
    "def function (*args):\n",
    "    print(args)\n",
    "    print(type(args))\n",
    "    "
   ]
  },
  {
   "cell_type": "code",
   "execution_count": 3,
   "id": "0315f246",
   "metadata": {},
   "outputs": [
    {
     "name": "stdout",
     "output_type": "stream",
     "text": [
      "(12, 45, 76)\n",
      "<class 'tuple'>\n"
     ]
    }
   ],
   "source": [
    "function(12,45,76)"
   ]
  },
  {
   "cell_type": "code",
   "execution_count": 5,
   "id": "81ac3910",
   "metadata": {},
   "outputs": [
    {
     "name": "stdout",
     "output_type": "stream",
     "text": [
      "(56, 12, 45, 23)\n",
      "<class 'tuple'>\n"
     ]
    }
   ],
   "source": [
    "function(*l1)\n"
   ]
  },
  {
   "cell_type": "code",
   "execution_count": 6,
   "id": "f26b778d",
   "metadata": {},
   "outputs": [],
   "source": [
    "def add(l):\n",
    "    total = 0\n",
    "    for i in l:\n",
    "        total = total+i\n",
    "    return total "
   ]
  },
  {
   "cell_type": "code",
   "execution_count": 7,
   "id": "cc142997",
   "metadata": {},
   "outputs": [
    {
     "data": {
      "text/plain": [
       "136"
      ]
     },
     "execution_count": 7,
     "metadata": {},
     "output_type": "execute_result"
    }
   ],
   "source": [
    "add(l1)"
   ]
  },
  {
   "cell_type": "markdown",
   "id": "0d53d1eb",
   "metadata": {},
   "source": [
    "# keyword arguments (kwargs)"
   ]
  },
  {
   "cell_type": "code",
   "execution_count": 12,
   "id": "264d7b4a",
   "metadata": {},
   "outputs": [],
   "source": [
    "def func(**kwargs):\n",
    "    print(kwargs)\n",
    "    print(type(kwargs))\n"
   ]
  },
  {
   "cell_type": "code",
   "execution_count": 13,
   "id": "05a3891f",
   "metadata": {},
   "outputs": [
    {
     "name": "stdout",
     "output_type": "stream",
     "text": [
      "{'name': 'umesh', 'age': 28, 'professsion': 'business'}\n",
      "<class 'dict'>\n"
     ]
    }
   ],
   "source": [
    "func(name = 'umesh', age = 28 , professsion ='business')"
   ]
  },
  {
   "cell_type": "code",
   "execution_count": 15,
   "id": "5c9e8dd6",
   "metadata": {},
   "outputs": [],
   "source": [
    "user = {'name' : 'smeeta','age' : 28 ,'education': 'ME'} "
   ]
  },
  {
   "cell_type": "code",
   "execution_count": 18,
   "id": "ad239cd0",
   "metadata": {},
   "outputs": [
    {
     "data": {
      "text/plain": [
       "{'name': 'smeeta', 'age': 28, 'education': 'ME', 'position': 'DA'}"
      ]
     },
     "execution_count": 18,
     "metadata": {},
     "output_type": "execute_result"
    }
   ],
   "source": [
    "user['position'] = 'DA'\n",
    "user"
   ]
  },
  {
   "cell_type": "code",
   "execution_count": 19,
   "id": "f11cdce5",
   "metadata": {},
   "outputs": [],
   "source": [
    "user.update({'name':{'shruti','sneha'}})"
   ]
  },
  {
   "cell_type": "code",
   "execution_count": 20,
   "id": "03be1c89",
   "metadata": {},
   "outputs": [
    {
     "data": {
      "text/plain": [
       "{'name': {'shruti', 'sneha'}, 'age': 28, 'education': 'ME', 'position': 'DA'}"
      ]
     },
     "execution_count": 20,
     "metadata": {},
     "output_type": "execute_result"
    }
   ],
   "source": [
    "user"
   ]
  },
  {
   "cell_type": "code",
   "execution_count": 24,
   "id": "0bbe985e",
   "metadata": {},
   "outputs": [],
   "source": [
    "def func(**kwargs):\n",
    "    user = {'Name': None,\n",
    "            'age': None,\n",
    "            'education': None}\n",
    "    user.update(kwargs)   \n",
    "    return user     "
   ]
  },
  {
   "cell_type": "code",
   "execution_count": 25,
   "id": "5f6878ba",
   "metadata": {},
   "outputs": [
    {
     "data": {
      "text/plain": [
       "{'Name': None, 'age': None, 'education': None, 'name': 'sunita'}"
      ]
     },
     "execution_count": 25,
     "metadata": {},
     "output_type": "execute_result"
    }
   ],
   "source": [
    "func(name = 'sunita')"
   ]
  },
  {
   "cell_type": "code",
   "execution_count": 26,
   "id": "a307fc80",
   "metadata": {},
   "outputs": [
    {
     "data": {
      "text/plain": [
       "{'Name': None,\n",
       " 'age': 28,\n",
       " 'education': 'ME',\n",
       " 'name': {'shruti', 'sneha'},\n",
       " 'position': 'DA'}"
      ]
     },
     "execution_count": 26,
     "metadata": {},
     "output_type": "execute_result"
    }
   ],
   "source": [
    "func(**user)"
   ]
  },
  {
   "cell_type": "code",
   "execution_count": null,
   "id": "e14fa7ed",
   "metadata": {},
   "outputs": [],
   "source": [
    "def func(**kwargs):    \n",
    "    user = {'Name': None,\n",
    "            'age': None,\n",
    "            'education': None}\n",
    "    for key in kwargs.keys():\n",
    "        if key in user.keys():\n",
    "            user.update(kwargs)\n",
    "    else: \n",
    "        print('keys are diffrenet')   \n",
    "    return user     "
   ]
  },
  {
   "cell_type": "code",
   "execution_count": 29,
   "id": "92924d70",
   "metadata": {},
   "outputs": [
    {
     "name": "stdout",
     "output_type": "stream",
     "text": [
      "keys are diffrenet\n"
     ]
    },
    {
     "data": {
      "text/plain": [
       "{'Name': 'sushma', 'age': None, 'education': None}"
      ]
     },
     "execution_count": 29,
     "metadata": {},
     "output_type": "execute_result"
    }
   ],
   "source": [
    "func(Name='sushma')"
   ]
  },
  {
   "cell_type": "code",
   "execution_count": 30,
   "id": "a924f058",
   "metadata": {},
   "outputs": [
    {
     "name": "stdout",
     "output_type": "stream",
     "text": [
      "keys are diffrenet\n"
     ]
    },
    {
     "data": {
      "text/plain": [
       "{'Name': None, 'age': None, 'education': None}"
      ]
     },
     "execution_count": 30,
     "metadata": {},
     "output_type": "execute_result"
    }
   ],
   "source": [
    "func(position = 'DS')"
   ]
  },
  {
   "cell_type": "code",
   "execution_count": null,
   "id": "cf173e0b",
   "metadata": {},
   "outputs": [],
   "source": []
  }
 ],
 "metadata": {
  "kernelspec": {
   "display_name": "venv",
   "language": "python",
   "name": "python3"
  },
  "language_info": {
   "codemirror_mode": {
    "name": "ipython",
    "version": 3
   },
   "file_extension": ".py",
   "mimetype": "text/x-python",
   "name": "python",
   "nbconvert_exporter": "python",
   "pygments_lexer": "ipython3",
   "version": "3.13.3"
  }
 },
 "nbformat": 4,
 "nbformat_minor": 5
}
